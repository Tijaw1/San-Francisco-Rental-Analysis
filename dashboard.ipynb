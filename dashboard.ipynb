{
 "cells": [
  {
   "cell_type": "markdown",
   "metadata": {},
   "source": [
    "# San Francisco Rental Prices Dashboard\n",
    "\n",
    "In this notebook, you will compile the visualizations from the previous analysis into functions that can be used for a Panel dashboard."
   ]
  },
  {
   "cell_type": "code",
   "execution_count": 15,
   "metadata": {},
   "outputs": [
    {
     "output_type": "stream",
     "name": "stderr",
     "text": [
      "WARNING:param.panel_extension: A HoloViz extension was loaded previously. This means the extension is already initialized and the following Panel extensions could not be properly loaded: ['plotly']. If you are loading custom extensions with pn.extension(...) ensure that this is called before any other HoloViz extension such as hvPlot or HoloViews.\n"
     ]
    }
   ],
   "source": [
    "# imports\n",
    "from dotenv import load_dotenv\n",
    "from panel import widgets\n",
    "from panel.interact import interact\n",
    "from pathlib import Path\n",
    "import hvplot.pandas\n",
    "import matplotlib.pyplot as plt\n",
    "import os\n",
    "import pandas as pd\n",
    "import panel as pn\n",
    "import plotly.express as px\n",
    "pn.extension()\n",
    "pn.extension('plotly')\n",
    "\n",
    "%matplotlib inline"
   ]
  },
  {
   "cell_type": "code",
   "execution_count": 16,
   "metadata": {},
   "outputs": [],
   "source": [
    "# Read the Mapbox API key\n",
    "load_dotenv()\n",
    "mapbox_token = os.getenv(\"MAPBOX_API_KEY\")"
   ]
  },
  {
   "cell_type": "markdown",
   "metadata": {},
   "source": [
    "# Import Data"
   ]
  },
  {
   "cell_type": "code",
   "execution_count": 17,
   "metadata": {},
   "outputs": [],
   "source": [
    "# Import the CSVs to Pandas DataFrames\n",
    "file_path = Path(\"Data/sfo_neighborhoods_census_data.csv\")\n",
    "sfo_data = pd.read_csv(file_path, index_col=\"year\")\n",
    "\n",
    "file_path = Path(\"Data/neighborhoods_coordinates.csv\")\n",
    "df_neighborhood_locations = pd.read_csv(file_path)"
   ]
  },
  {
   "cell_type": "markdown",
   "metadata": {},
   "source": [
    "- - -"
   ]
  },
  {
   "cell_type": "markdown",
   "metadata": {},
   "source": [
    "## Panel Visualizations\n",
    "\n",
    "In this section, you will copy the code for each plot type from your analysis notebook and place it into separate functions that Panel can use to create panes for the dashboard. \n",
    "\n",
    "These functions will convert the plot object to a Panel pane.\n",
    "\n",
    "Be sure to include any DataFrame transformation/manipulation code required along with the plotting code.\n",
    "\n",
    "Return a Panel pane object from each function that can be used to build the dashboard.\n",
    "\n",
    "Note: Remove any `.show()` lines from the code. We want to return the plots instead of showing them. The Panel dashboard will then display the plots."
   ]
  },
  {
   "cell_type": "code",
   "execution_count": 18,
   "metadata": {},
   "outputs": [],
   "source": [
    "# Calculations\n",
    "mean_housing_units = sfo_data.groupby([\"year\"])[\"housing_units\"].mean()\n",
    "mean_gross_rent              = sfo_data.groupby([\"year\"])[\"gross_rent\"].mean()\n",
    "mean_sale_price_per_sqr_foot = sfo_data.groupby([\"year\"])[\"sale_price_sqr_foot\"].mean()\n",
    "sfo_grouped_by_year_and_nbhd = sfo_data.groupby([\"year\", \"neighborhood\"]).mean()\n",
    "sfo_grouped_by_year_and_nbhd.reset_index(inplace=True)\n",
    "top_10 = sfo_data.groupby([\"neighborhood\"]).mean() \\\n",
    "    .sort_values(by=\"sale_price_sqr_foot\", ascending=False).head(10)\n",
    "top_10.reset_index(inplace=True)\n",
    "\n",
    "\n",
    "# Define Panel Visualization Functions\n",
    "def housing_units_per_year():\n",
    "    \"\"\"Housing Units Per Year.\"\"\"\n",
    "\n",
    "    sfo_grouped_min = sfo_data.groupby([\"year\"])[\"housing_units\"].min().min()\n",
    "    sfo_grouped_max = sfo_data.groupby([\"year\"])[\"housing_units\"].max().max()\n",
    "    sfo_grouped_std = sfo_data[\"housing_units\"].std()\n",
    "\n",
    "    first_year = mean_housing_units.index[0]\n",
    "    last_year = mean_housing_units.index[-1]\n",
    "\n",
    "    fig_housing_units = mean_housing_units.plot.bar(\n",
    "        xlim=[first_year, last_year],\n",
    "        ylim=[sfo_grouped_min - sfo_grouped_std, sfo_grouped_max + sfo_grouped_std]\n",
    "    )\n",
    "    fig_housing_units.set_title(\"Housing Units in San Franscisco from 2010 to 2016\")\n",
    "    fig_housing_units.set_xlabel(\"Year\")\n",
    "    fig_housing_units.set_ylabel(\"Nbr. Housing Units\")\n",
    "\n",
    "    return fig_housing_units\n",
    "\n",
    "\n",
    "def average_gross_rent():\n",
    "    \"\"\"Average Gross Rent in San Francisco Per Year.\"\"\"\n",
    "\n",
    "    fig_gross_rent = mean_gross_rent.plot.line()\n",
    "    fig_gross_rent.set_title(\"Average Gross Rent in San Francisco\")\n",
    "    fig_gross_rent.set_xlabel(\"Year\")\n",
    "    fig_gross_rent.set_ylabel(\"Gross Rent\")\n",
    "\n",
    "    return fig_gross_rent\n",
    "\n",
    "\n",
    "def average_sales_price():\n",
    "    \"\"\"Average Sales Price Per Year.\"\"\"\n",
    "    \n",
    "\n",
    "    fig_sale_price_per_sqr_foot = mean_sale_price_per_sqr_foot.plot.line()\n",
    "    #xlim=[first_year, last_year])\n",
    "    fig_sale_price_per_sqr_foot.set_title(\"Average Sale Price per Square Foot in San Francisco\")\n",
    "    fig_sale_price_per_sqr_foot.set_xlabel(\"Year\")\n",
    "    fig_sale_price_per_sqr_foot.set_ylabel(\"Avg. Sale Price\")\n",
    "\n",
    "    return fig_sale_price_per_sqr_foot\n",
    "\n",
    "\n",
    "def average_price_by_neighborhood():\n",
    "    \"\"\"Average Prices by Neighborhood.\"\"\"\n",
    "\n",
    "    neighborhoods = sfo_grouped_by_year_and_nbhd[\"neighborhood\"]\n",
    "\n",
    "    def plot_avg_price_per_sq_ft(neighborhood):\n",
    "        print(neighborhood)\n",
    "        return sfo_grouped_by_year_and_nbhd.loc[neighborhoods == neighborhood, \"sale_price_sqr_foot\"].plot.line()\n",
    "\n",
    "    figure_panel = pn.panel(interact(plot_avg_price_per_sq_ft, neighborhood=neighborhoods))\n",
    "    return figure_panel\n",
    "\n",
    "\n",
    "def top_most_expensive_neighborhoods():\n",
    "    \"\"\"Top 10 Most Expensive Neighborhoods.\"\"\"\n",
    "\n",
    "    return top_10.hvplot.bar(\n",
    "        x=\"neighborhood\",\n",
    "        y=\"sale_price_sqr_foot\",\n",
    "        title=\"Top 10 Expensive Neighborhoods in SFO\",\n",
    "        xlabel=\"Neighborhood\",\n",
    "        ylabel=\"Avg. Sale Price per Square Foot\",\n",
    "        width=600,\n",
    "        height=350)\n",
    "\n",
    "\n",
    "def parallel_coordinates():\n",
    "    \"\"\"Parallel Coordinates Plot.\"\"\"\n",
    "\n",
    "    return px.parallel_coordinates(top_10, color = \"sale_price_sqr_foot\", width=900)\n",
    "\n",
    "\n",
    "def parallel_categories():\n",
    "    \"\"\"Parallel Categories Plot.\"\"\"\n",
    "\n",
    "    return px.parallel_categories(top_10, color = \"sale_price_sqr_foot\", width=900)\n",
    "\n",
    "\n",
    "def neighborhood_map():\n",
    "    \"\"\"Neighborhood Map\"\"\"\n",
    "\n",
    "    file_path = Path(\"Data/neighborhoods_coordinates.csv\")\n",
    "    df_neighborhood_locations = pd.read_csv(file_path)\n",
    "    df_neighborhood_locations.columns = [ \"neighborhood\", \"Lat\", \"Lon\" ]\n",
    "    \n",
    "    mean_data = sfo_data.groupby(\"neighborhood\").mean()\n",
    "    mean_data.reset_index(inplace=True)\n",
    "\n",
    "    combined_data = pd.concat([df_neighborhood_locations, mean_data], axis='columns', join='inner')\n",
    "    combined_data = combined_data.iloc[:, 1:]\n",
    "\n",
    "    px.set_mapbox_access_token(mapbox_token)\n",
    "    map = px.scatter_mapbox(\n",
    "        combined_data,\n",
    "        lat=\"Lat\",\n",
    "        lon=\"Lon\",\n",
    "        size=\"gross_rent\",\n",
    "        color=\"neighborhood\"\n",
    "    )\n",
    "    return map.show()"
   ]
  },
  {
   "cell_type": "markdown",
   "metadata": {},
   "source": [
    "## Panel Dashboard\n",
    "\n",
    "In this section, you will combine all of the plots into a single dashboard view using Panel. Be creative with your dashboard design!"
   ]
  },
  {
   "cell_type": "code",
   "execution_count": 19,
   "metadata": {},
   "outputs": [
    {
     "output_type": "stream",
     "name": "stdout",
     "text": [
      "Alamo Square\n"
     ]
    },
    {
     "output_type": "error",
     "ename": "NameError",
     "evalue": "name 'top_10' is not defined",
     "traceback": [
      "\u001b[1;31m---------------------------------------------------------------------------\u001b[0m",
      "\u001b[1;31mNameError\u001b[0m                                 Traceback (most recent call last)",
      "\u001b[1;32m<ipython-input-19-8c05c9cd7d70>\u001b[0m in \u001b[0;36m<module>\u001b[1;34m\u001b[0m\n\u001b[0;32m      2\u001b[0m \u001b[1;33m\u001b[0m\u001b[0m\n\u001b[0;32m      3\u001b[0m \u001b[0mrow1\u001b[0m \u001b[1;33m=\u001b[0m \u001b[0mpn\u001b[0m\u001b[1;33m.\u001b[0m\u001b[0mColumn\u001b[0m\u001b[1;33m(\u001b[0m\u001b[1;34m\"# Row 1\"\u001b[0m\u001b[1;33m,\u001b[0m \u001b[0mhousing_units_per_year\u001b[0m\u001b[1;33m(\u001b[0m\u001b[1;33m)\u001b[0m\u001b[1;33m,\u001b[0m \u001b[0maverage_gross_rent\u001b[0m\u001b[1;33m(\u001b[0m\u001b[1;33m)\u001b[0m\u001b[1;33m,\u001b[0m \u001b[0maverage_sales_price\u001b[0m\u001b[1;33m(\u001b[0m\u001b[1;33m)\u001b[0m\u001b[1;33m)\u001b[0m\u001b[1;33m\u001b[0m\u001b[1;33m\u001b[0m\u001b[0m\n\u001b[1;32m----> 4\u001b[1;33m \u001b[0mrow2\u001b[0m \u001b[1;33m=\u001b[0m \u001b[0mpn\u001b[0m\u001b[1;33m.\u001b[0m\u001b[0mRow\u001b[0m\u001b[1;33m(\u001b[0m\u001b[1;34m\"# Row 2\"\u001b[0m\u001b[1;33m,\u001b[0m \u001b[0maverage_price_by_neighborhood\u001b[0m\u001b[1;33m(\u001b[0m\u001b[1;33m)\u001b[0m\u001b[1;33m,\u001b[0m \u001b[0mtop_most_expensive_neighborhoods\u001b[0m\u001b[1;33m(\u001b[0m\u001b[1;33m)\u001b[0m\u001b[1;33m,\u001b[0m \u001b[0mparallel_coordinates\u001b[0m\u001b[1;33m(\u001b[0m\u001b[1;33m)\u001b[0m\u001b[1;33m)\u001b[0m\u001b[1;33m\u001b[0m\u001b[1;33m\u001b[0m\u001b[0m\n\u001b[0m\u001b[0;32m      5\u001b[0m \u001b[0mrow3\u001b[0m \u001b[1;33m=\u001b[0m \u001b[0mpn\u001b[0m\u001b[1;33m.\u001b[0m\u001b[0mRow\u001b[0m\u001b[1;33m(\u001b[0m\u001b[1;34m\"# Row 3\"\u001b[0m\u001b[1;33m,\u001b[0m \u001b[0mparallel_categories\u001b[0m\u001b[1;33m(\u001b[0m\u001b[1;33m)\u001b[0m\u001b[1;33m,\u001b[0m \u001b[0mneighborhood_map\u001b[0m\u001b[1;33m(\u001b[0m\u001b[1;33m)\u001b[0m\u001b[1;33m)\u001b[0m\u001b[1;33m\u001b[0m\u001b[1;33m\u001b[0m\u001b[0m\n\u001b[0;32m      6\u001b[0m \u001b[1;33m\u001b[0m\u001b[0m\n",
      "\u001b[1;32m<ipython-input-18-6043f4bc8d37>\u001b[0m in \u001b[0;36mparallel_coordinates\u001b[1;34m()\u001b[0m\n\u001b[0;32m     87\u001b[0m     \u001b[1;34m\"\"\"Parallel Coordinates Plot.\"\"\"\u001b[0m\u001b[1;33m\u001b[0m\u001b[1;33m\u001b[0m\u001b[0m\n\u001b[0;32m     88\u001b[0m \u001b[1;33m\u001b[0m\u001b[0m\n\u001b[1;32m---> 89\u001b[1;33m     \u001b[1;32mreturn\u001b[0m \u001b[0mpx\u001b[0m\u001b[1;33m.\u001b[0m\u001b[0mparallel_coordinates\u001b[0m\u001b[1;33m(\u001b[0m\u001b[0mtop_10\u001b[0m\u001b[1;33m,\u001b[0m \u001b[0mcolor\u001b[0m \u001b[1;33m=\u001b[0m \u001b[1;34m\"sale_price_sqr_foot\"\u001b[0m\u001b[1;33m,\u001b[0m \u001b[0mwidth\u001b[0m\u001b[1;33m=\u001b[0m\u001b[1;36m900\u001b[0m\u001b[1;33m)\u001b[0m\u001b[1;33m\u001b[0m\u001b[1;33m\u001b[0m\u001b[0m\n\u001b[0m\u001b[0;32m     90\u001b[0m \u001b[1;33m\u001b[0m\u001b[0m\n\u001b[0;32m     91\u001b[0m \u001b[1;33m\u001b[0m\u001b[0m\n",
      "\u001b[1;31mNameError\u001b[0m: name 'top_10' is not defined"
     ]
    }
   ],
   "source": [
    "## NOTE: Build rows and colums here.\n",
    "\n",
    "row1 = pn.Column(\"# Row 1\", housing_units_per_year(), average_gross_rent(), average_sales_price())\n",
    "row2 = pn.Row(\"# Row 2\", average_price_by_neighborhood(), top_most_expensive_neighborhoods(), parallel_coordinates())\n",
    "row3 = pn.Row(\"# Row 3\", parallel_categories(), neighborhood_map())\n",
    "\n",
    "plots_as_column = pn.Column(\"# Rental Dashboard Column\", row1, row2)\n",
    "\n",
    "\n",
    "## NOTE: Build dashboard here.\n",
    "\n",
    "dashboard = pn.Tabs(\n",
    "    (\"Plots 1\", row1),\n",
    "    (\"Plots 2\", row2),\n",
    "    (\"Plots 3\", row3)\n",
    ")\n",
    "\n",
    "dashboard"
   ]
  },
  {
   "cell_type": "markdown",
   "metadata": {},
   "source": [
    "## Serve the Panel Dashboard"
   ]
  },
  {
   "cell_type": "code",
   "execution_count": 14,
   "metadata": {},
   "outputs": [
    {
     "output_type": "display_data",
     "data": {},
     "metadata": {}
    },
    {
     "output_type": "execute_result",
     "data": {
      "text/html": "<div id='1059'>\n\n\n\n\n\n  <div class=\"bk-root\" id=\"6526f47c-32ef-4c6f-8461-9a68a7bc7ea3\" data-root-id=\"1059\"></div>\n</div>\n<script type=\"application/javascript\">(function(root) {\n  function embed_document(root) {\n    var docs_json = {\"12a47446-84cb-4a8f-8d48-8a2f10b52d55\":{\"roots\":{\"references\":[{\"attributes\":{\"margin\":[5,5,5,5],\"name\":\"Str01506\"},\"id\":\"1064\",\"type\":\"panel.models.markup.HTML\"},{\"attributes\":{\"children\":[{\"id\":\"1073\"},{\"id\":\"1074\"},{\"id\":\"1075\"}],\"margin\":[0,0,0,0],\"name\":\"Row01531\"},\"id\":\"1072\",\"type\":\"Row\"},{\"attributes\":{\"child\":{\"id\":\"1066\"},\"name\":\"Row01524\",\"title\":\"Plots 2\"},\"id\":\"1071\",\"type\":\"Panel\"},{\"attributes\":{\"child\":{\"id\":\"1072\"},\"name\":\"Row01531\",\"title\":\"Plots 3\"},\"id\":\"1076\",\"type\":\"Panel\"},{\"attributes\":{\"margin\":[5,5,5,5],\"name\":\"Str01504\",\"text\":\"&lt;pre&gt;AxesSubplot(0.125,0.125;0.775x0.755)&lt;/pre&gt;\"},\"id\":\"1063\",\"type\":\"panel.models.markup.HTML\"},{\"attributes\":{\"css_classes\":[\"markdown\"],\"margin\":[5,5,5,5],\"name\":\"Markdown01525\",\"text\":\"&lt;h1&gt;Row 3&lt;/h1&gt;\"},\"id\":\"1073\",\"type\":\"panel.models.markup.HTML\"},{\"attributes\":{\"children\":[{\"id\":\"1061\"},{\"id\":\"1062\"},{\"id\":\"1063\"},{\"id\":\"1064\"}],\"margin\":[0,0,0,0],\"name\":\"Column01508\"},\"id\":\"1060\",\"type\":\"Column\"},{\"attributes\":{\"client_comm_id\":\"d3aef6f72b5c4189b9910b849fd5374c\",\"comm_id\":\"83cf8aaa56294bdcb299f13a4bcac599\",\"plot_id\":\"1059\"},\"id\":\"1077\",\"type\":\"panel.models.comm_manager.CommManager\"},{\"attributes\":{\"child\":{\"id\":\"1060\"},\"name\":\"Column01508\",\"title\":\"Plots 1\"},\"id\":\"1065\",\"type\":\"Panel\"},{\"attributes\":{\"margin\":[5,5,5,5],\"name\":\"Str01518\"},\"id\":\"1068\",\"type\":\"panel.models.markup.HTML\"},{\"attributes\":{\"margin\":[5,5,5,5],\"name\":\"Str01527\"},\"id\":\"1074\",\"type\":\"panel.models.markup.HTML\"},{\"attributes\":{\"css_classes\":[\"markdown\"],\"margin\":[5,5,5,5],\"name\":\"Markdown01516\",\"text\":\"&lt;h1&gt;Row 2&lt;/h1&gt;\"},\"id\":\"1067\",\"type\":\"panel.models.markup.HTML\"},{\"attributes\":{\"margin\":[5,5,5,5],\"name\":\"Str01522\"},\"id\":\"1070\",\"type\":\"panel.models.markup.HTML\"},{\"attributes\":{\"children\":[{\"id\":\"1067\"},{\"id\":\"1068\"},{\"id\":\"1069\"},{\"id\":\"1070\"}],\"margin\":[0,0,0,0],\"name\":\"Row01524\"},\"id\":\"1066\",\"type\":\"Row\"},{\"attributes\":{\"margin\":[5,5,5,5],\"name\":\"Str01520\"},\"id\":\"1069\",\"type\":\"panel.models.markup.HTML\"},{\"attributes\":{\"margin\":[5,5,5,5],\"name\":\"Str01502\",\"text\":\"&lt;pre&gt;AxesSubplot(0.125,0.125;0.775x0.755)&lt;/pre&gt;\"},\"id\":\"1062\",\"type\":\"panel.models.markup.HTML\"},{\"attributes\":{\"margin\":[0,0,0,0],\"tabs\":[{\"id\":\"1065\"},{\"id\":\"1071\"},{\"id\":\"1076\"}]},\"id\":\"1059\",\"type\":\"Tabs\"},{\"attributes\":{\"css_classes\":[\"markdown\"],\"margin\":[5,5,5,5],\"name\":\"Markdown01500\",\"text\":\"&lt;h1&gt;Row 1&lt;/h1&gt;\"},\"id\":\"1061\",\"type\":\"panel.models.markup.HTML\"},{\"attributes\":{\"margin\":[5,5,5,5],\"name\":\"Str01529\"},\"id\":\"1075\",\"type\":\"panel.models.markup.HTML\"}],\"root_ids\":[\"1059\",\"1077\"]},\"title\":\"Bokeh Application\",\"version\":\"2.2.3\"}};\n    var render_items = [{\"docid\":\"12a47446-84cb-4a8f-8d48-8a2f10b52d55\",\"root_ids\":[\"1059\"],\"roots\":{\"1059\":\"6526f47c-32ef-4c6f-8461-9a68a7bc7ea3\"}}];\n    root.Bokeh.embed.embed_items_notebook(docs_json, render_items);\n  }\n  if (root.Bokeh !== undefined && root.Bokeh.Panel !== undefined) {\n    embed_document(root);\n  } else {\n    var attempts = 0;\n    var timer = setInterval(function(root) {\n      if (root.Bokeh !== undefined && root.Bokeh.Panel !== undefined) {\n        clearInterval(timer);\n        embed_document(root);\n      } else if (document.readyState == \"complete\") {\n        attempts++;\n        if (attempts > 100) {\n          clearInterval(timer);\n          console.log(\"Bokeh: ERROR: Unable to run BokehJS code because BokehJS library is missing\");\n        }\n      }\n    }, 10, root)\n  }\n})(window);</script>",
      "application/vnd.holoviews_exec.v0+json": "",
      "text/plain": [
       "Tabs\n",
       "    [0] Column\n",
       "        [0] Markdown(str)\n",
       "        [1] Str(AxesSubplot)\n",
       "        [2] Str(AxesSubplot)\n",
       "        [3] Str(None)\n",
       "    [1] Row\n",
       "        [0] Markdown(str)\n",
       "        [1] Str(None)\n",
       "        [2] Str(None)\n",
       "        [3] Str(None)\n",
       "    [2] Row\n",
       "        [0] Markdown(str)\n",
       "        [1] Str(None)\n",
       "        [2] Str(None)"
      ]
     },
     "metadata": {
      "application/vnd.holoviews_exec.v0+json": {
       "id": "1059"
      }
     },
     "execution_count": 14
    }
   ],
   "source": [
    "dashboard.servable()"
   ]
  }
 ],
 "metadata": {
  "file_extension": ".py",
  "kernelspec": {
   "name": "Python 3.8.3 64-bit ('pyvizenv': conda)",
   "display_name": "Python 3.8.3 64-bit ('pyvizenv': conda)",
   "metadata": {
    "interpreter": {
     "hash": "9b71b9fa21544dd8a39d3650f5526997ede89e0b97dc642fc8071b919dea00e5"
    }
   }
  },
  "language_info": {
   "codemirror_mode": {
    "name": "ipython",
    "version": 3
   },
   "file_extension": ".py",
   "mimetype": "text/x-python",
   "name": "python",
   "nbconvert_exporter": "python",
   "pygments_lexer": "ipython3",
   "version": "3.8.3-final"
  },
  "mimetype": "text/x-python",
  "name": "python",
  "npconvert_exporter": "python",
  "pygments_lexer": "ipython3",
  "version": 3
 },
 "nbformat": 4,
 "nbformat_minor": 4
}